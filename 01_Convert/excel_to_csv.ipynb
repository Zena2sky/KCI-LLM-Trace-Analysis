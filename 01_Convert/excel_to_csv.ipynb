{
 "cells": [
  {
   "cell_type": "markdown",
   "id": "7166d2d7",
   "metadata": {},
   "source": [
    "엑셀파일 데이터를 csv로 저장하기"
   ]
  },
  {
   "cell_type": "code",
   "execution_count": null,
   "id": "a7be54cd",
   "metadata": {},
   "outputs": [],
   "source": [
    "import pandas as pd\n",
    "\n",
    "# 엑셀 파일 불러오기\n",
    "df1 = pd.read_excel('KCI_H_part1.xlsx')\n",
    "df2 = pd.read_excel('KCI_H_part2.xlsx')\n"
   ]
  },
  {
   "cell_type": "code",
   "execution_count": 4,
   "id": "19fed13e",
   "metadata": {},
   "outputs": [],
   "source": [
    "# CSV 저장\n",
    "df1.to_csv('KCI_H_part1.csv', index=False, encoding='utf-8-sig')\n",
    "df2.to_csv('KCI_H_part2.csv', index=False, encoding='utf-8-sig')"
   ]
  }
 ],
 "metadata": {
  "kernelspec": {
   "display_name": "Python 3",
   "language": "python",
   "name": "python3"
  },
  "language_info": {
   "codemirror_mode": {
    "name": "ipython",
    "version": 3
   },
   "file_extension": ".py",
   "mimetype": "text/x-python",
   "name": "python",
   "nbconvert_exporter": "python",
   "pygments_lexer": "ipython3",
   "version": "3.12.4"
  }
 },
 "nbformat": 4,
 "nbformat_minor": 5
}
