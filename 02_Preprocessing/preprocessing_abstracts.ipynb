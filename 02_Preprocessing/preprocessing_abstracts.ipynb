{
 "cells": [
  {
   "cell_type": "markdown",
   "id": "57f1e0b0",
   "metadata": {},
   "source": [
    "데이터 전처리 하기\n"
   ]
  },
  {
   "cell_type": "markdown",
   "id": "b6a44116",
   "metadata": {},
   "source": [
    "1. 데이터 로드"
   ]
  },
  {
   "cell_type": "code",
   "execution_count": 11,
   "id": "384263fe",
   "metadata": {},
   "outputs": [],
   "source": [
    "# pandas는 데이터프레임 처리를 위한 기본 라이브러리입니다.\n",
    "import pandas as pd\n",
    "\n",
    "# re는 텍스트 정제를 위한 정규표현식 처리 라이브러리입니다.\n",
    "import re\n",
    "\n",
    "# CSV 파일을 불러옵니다 (논문 ID, 영어초록, 영어제목, 발행년도).\n",
    "df = pd.read_csv('S_abstract_only.csv')\n"
   ]
  },
  {
   "cell_type": "markdown",
   "id": "c72a0c69",
   "metadata": {},
   "source": [
    "2. 기초 작업"
   ]
  },
  {
   "cell_type": "code",
   "execution_count": 12,
   "id": "252053e0",
   "metadata": {},
   "outputs": [],
   "source": [
    "# 1. 결측 제거 (NaN + 빈 문자열)\n",
    "df = df[df['영어초록'].notna() & (df['영어초록'].str.strip() != '')]\n",
    "\n",
    "# 2. 중복 제거\n",
    "df = df.drop_duplicates(subset=['영어초록'])\n"
   ]
  }
 ],
 "metadata": {
  "kernelspec": {
   "display_name": "Python 3",
   "language": "python",
   "name": "python3"
  },
  "language_info": {
   "codemirror_mode": {
    "name": "ipython",
    "version": 3
   },
   "file_extension": ".py",
   "mimetype": "text/x-python",
   "name": "python",
   "nbconvert_exporter": "python",
   "pygments_lexer": "ipython3",
   "version": "3.12.4"
  }
 },
 "nbformat": 4,
 "nbformat_minor": 5
}
