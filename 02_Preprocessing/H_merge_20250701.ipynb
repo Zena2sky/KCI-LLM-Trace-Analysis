{
 "cells": [
  {
   "cell_type": "markdown",
   "id": "74a52841",
   "metadata": {},
   "source": [
    "1. 파일 불러오기"
   ]
  },
  {
   "cell_type": "code",
   "execution_count": 1,
   "id": "965c0ff4",
   "metadata": {},
   "outputs": [
    {
     "name": "stdout",
     "output_type": "stream",
     "text": [
      "           논문ID 주저자명 공동저자명 주저자소속기관 주저자ORCID                             논문제목  \\\n",
      "0  ART001134609  강인욱   NaN   서울대학교      NaN     韓半島 出土 動物形 帶鉤의 系統에 대한 시론적 검토   \n",
      "1  ART001134565  안승모   이영덕   원광대학교      NaN  龍潭댐 水沒地區의 新石器文化-鎭安 갈머리遺蹟을 中心으로-   \n",
      "2  ART001134567  노혁진   NaN   한림대학교      NaN                 中島式吐器의 由來에 대한 一考   \n",
      "\n",
      "  논문외국어제목 논문영어제목   학술지ID    학술지명  ...  \\\n",
      "0     NaN    NaN  000669  호남고고학보  ...   \n",
      "1     NaN    NaN  000669  호남고고학보  ...   \n",
      "2     NaN    NaN  000669  호남고고학보  ...   \n",
      "\n",
      "                                         키워드 외국어키워드 영어키워드   언어 참고문헌수 피인용횟수  \\\n",
      "0           동물형 대구, 마형대구, 호형대구, 동물장식, 세형동검문화    NaN   NaN  NaN    59    16   \n",
      "1                신석기시대, 즐문토기, 금강, 용담댐, 갈머리유적    NaN   NaN  NaN    39     5   \n",
      "2   중도식토기, 끄로우노프까문화, 호곡동, 강원영동, 북한강권, 동북전파가설    NaN   NaN  NaN    33    29   \n",
      "\n",
      "   DOI       주제분야                                                URL 등재구분  \n",
      "0  NaN  인문학 > 역사학  https://www.kci.go.kr/kciportal/ci/sereArticle...   등재  \n",
      "1  NaN  인문학 > 역사학  https://www.kci.go.kr/kciportal/ci/sereArticle...   등재  \n",
      "2  NaN  인문학 > 역사학  https://www.kci.go.kr/kciportal/ci/sereArticle...   등재  \n",
      "\n",
      "[3 rows x 36 columns]\n",
      "          논문 ID  저자명     주저자 소속기관 주저자 ORCID  \\\n",
      "0  ART003052982  박관우        전북대학교       NaN   \n",
      "1  ART003052983  서현주    한국전통문화대학교       NaN   \n",
      "2  ART003052980  김은정  (재)대한문화재연구원       NaN   \n",
      "\n",
      "                                        논문제목  \\\n",
      "0                     마한토기 외파수발(把手鉢)의 성격과 변천   \n",
      "1                     고흥지역 백제 사비기 고분의 변천과 성격   \n",
      "2  1∼6세기 섬진강 상류 지역 정치체의 성장과 변동 -취락 자료를 중심으로-   \n",
      "\n",
      "                                              논문외국어명  \\\n",
      "0  On the Characteristics and Transition of Mahan...   \n",
      "1  Changes and Characteristics of Ancient Tombs d...   \n",
      "2  Growth and Changes in the Political System of ...   \n",
      "\n",
      "                                               논문영어명   학술지ID    학술지명 학술지약어명  \\\n",
      "0  On the Characteristics and Transition of Mahan...  000669  호남고고학보    NaN   \n",
      "1  Changes and Characteristics of Ancient Tombs d...  000669  호남고고학보    NaN   \n",
      "2  Growth and Changes in the Political System of ...  000669  호남고고학보    NaN   \n",
      "\n",
      "   ...                              저자키워드  \\\n",
      "0  ...           마한, 토기, 외파수발, 성격, 기능, 변천   \n",
      "1  ...           고흥, 백제, 사비기, 고분, 석실묘, 산성   \n",
      "2  ...  취락, 주거, 섬진강, 정치체, 원삼국∼삼국시대(1∼6세기)   \n",
      "\n",
      "                                              외국어키워드  \\\n",
      "0  Mahan, Pottery, Wepasuval, Characteristics, Fu...   \n",
      "1  Goheung, Baekje, Sabi period, ancient tombs, s...   \n",
      "2  Settlement, Residence, Seomjin River, Politica...   \n",
      "\n",
      "                                               영어키워드   언어 참고문헌 수 피인용 횟수  \\\n",
      "0  Mahan, Pottery, Wepasuval, Characteristics, Fu...  한국어      0      0   \n",
      "1  Goheung, Baekje, Sabi period, ancient tombs, s...  한국어      0      0   \n",
      "2  Settlement, Residence, Seomjin River, Politica...  한국어      0      1   \n",
      "\n",
      "                                         DOI       주제분야  \\\n",
      "0   https://doi.org/10.55473/JHAS.2024.76.74  인문학 > 역사학   \n",
      "1  https://doi.org/10.55473/JHAS.2024.76.112  인문학 > 역사학   \n",
      "2   https://doi.org/10.55473/JHAS.2024.76.46  인문학 > 역사학   \n",
      "\n",
      "                                                 URL  KCI 등재 구분  \n",
      "0  https://www.kci.go.kr/kciportal/ci/sereArticle...         등재  \n",
      "1  https://www.kci.go.kr/kciportal/ci/sereArticle...         등재  \n",
      "2  https://www.kci.go.kr/kciportal/ci/sereArticle...         등재  \n",
      "\n",
      "[3 rows x 35 columns]\n"
     ]
    }
   ],
   "source": [
    "import pandas as pd\n",
    "\n",
    "# 파일 불러오기\n",
    "df1 = pd.read_excel('KCI_H_part1.xlsx')\n",
    "df2 = pd.read_excel('KCI_H_part2.xlsx')\n",
    "\n",
    "# 불러온 데이터 확인 (앞 3줄만 보기)\n",
    "print(df1.head(3))\n",
    "print(df2.head(3))\n",
    "\n"
   ]
  },
  {
   "cell_type": "markdown",
   "id": "929f73c2",
   "metadata": {},
   "source": [
    "2. 컬럼명 통일하기"
   ]
  },
  {
   "cell_type": "code",
   "execution_count": 2,
   "id": "23a16a48",
   "metadata": {},
   "outputs": [],
   "source": [
    "# df1 컬럼명 통일\n",
    "df1 = df1.rename(columns={\n",
    "    '논문ID': '논문ID',\n",
    "    '발행년도': '발행년도',\n",
    "    '논문영어제목': '논문영어제목',\n",
    "    '영어초록': '영어초록'\n",
    "})\n",
    "\n",
    "# df2 컬럼명 통일\n",
    "df2 = df2.rename(columns={\n",
    "    '논문 ID': '논문ID',\n",
    "    '발행 연도': '발행년도',\n",
    "    '논문영어명': '논문영어제목',\n",
    "    '영어초록': '영어초록'\n",
    "})\n"
   ]
  },
  {
   "cell_type": "markdown",
   "id": "c8e9cc26",
   "metadata": {},
   "source": [
    "3. 사용하고자 하는 컬럼 추출"
   ]
  },
  {
   "cell_type": "code",
   "execution_count": 3,
   "id": "680002e4",
   "metadata": {},
   "outputs": [],
   "source": [
    "df1 = df1[['논문ID', '발행년도', '논문영어제목', '영어초록']]\n",
    "df2 = df2[['논문ID', '발행년도', '논문영어제목', '영어초록']]\n"
   ]
  },
  {
   "cell_type": "markdown",
   "id": "c3f27496",
   "metadata": {},
   "source": [
    "4. 두 파일 병합(concat)"
   ]
  },
  {
   "cell_type": "code",
   "execution_count": 4,
   "id": "902f07c7",
   "metadata": {},
   "outputs": [],
   "source": [
    "combined = pd.concat([df1, df2], ignore_index=True)\n"
   ]
  },
  {
   "cell_type": "markdown",
   "id": "601d6000",
   "metadata": {},
   "source": [
    "5. 결측치 확인"
   ]
  },
  {
   "cell_type": "code",
   "execution_count": 5,
   "id": "b0cbb9fa",
   "metadata": {},
   "outputs": [
    {
     "data": {
      "text/plain": [
       "논문ID          0\n",
       "발행년도          0\n",
       "논문영어제목    15941\n",
       "영어초록      39364\n",
       "dtype: int64"
      ]
     },
     "execution_count": 5,
     "metadata": {},
     "output_type": "execute_result"
    }
   ],
   "source": [
    "combined.isnull().sum()\n"
   ]
  },
  {
   "cell_type": "markdown",
   "id": "40c1a77b",
   "metadata": {},
   "source": [
    "6. 데이터 확인을 위해 CSV 생성"
   ]
  },
  {
   "cell_type": "code",
   "execution_count": 7,
   "id": "de41c98d",
   "metadata": {},
   "outputs": [],
   "source": [
    "combined.to_csv('combined_papers.csv', index=False, encoding='utf-8-sig')\n"
   ]
  },
  {
   "cell_type": "markdown",
   "id": "97b72947",
   "metadata": {},
   "source": [
    "7. SCV 내용 확인"
   ]
  },
  {
   "cell_type": "code",
   "execution_count": 8,
   "id": "be345a37",
   "metadata": {},
   "outputs": [
    {
     "data": {
      "text/html": [
       "<div>\n",
       "<style scoped>\n",
       "    .dataframe tbody tr th:only-of-type {\n",
       "        vertical-align: middle;\n",
       "    }\n",
       "\n",
       "    .dataframe tbody tr th {\n",
       "        vertical-align: top;\n",
       "    }\n",
       "\n",
       "    .dataframe thead th {\n",
       "        text-align: right;\n",
       "    }\n",
       "</style>\n",
       "<table border=\"1\" class=\"dataframe\">\n",
       "  <thead>\n",
       "    <tr style=\"text-align: right;\">\n",
       "      <th></th>\n",
       "      <th>논문ID</th>\n",
       "      <th>발행년도</th>\n",
       "      <th>논문영어제목</th>\n",
       "      <th>영어초록</th>\n",
       "    </tr>\n",
       "  </thead>\n",
       "  <tbody>\n",
       "    <tr>\n",
       "      <th>0</th>\n",
       "      <td>ART001134609</td>\n",
       "      <td>2004</td>\n",
       "      <td>NaN</td>\n",
       "      <td>NaN</td>\n",
       "    </tr>\n",
       "    <tr>\n",
       "      <th>1</th>\n",
       "      <td>ART001134565</td>\n",
       "      <td>2004</td>\n",
       "      <td>NaN</td>\n",
       "      <td>NaN</td>\n",
       "    </tr>\n",
       "    <tr>\n",
       "      <th>2</th>\n",
       "      <td>ART001134567</td>\n",
       "      <td>2004</td>\n",
       "      <td>NaN</td>\n",
       "      <td>NaN</td>\n",
       "    </tr>\n",
       "    <tr>\n",
       "      <th>3</th>\n",
       "      <td>ART001134520</td>\n",
       "      <td>2004</td>\n",
       "      <td>NaN</td>\n",
       "      <td>NaN</td>\n",
       "    </tr>\n",
       "    <tr>\n",
       "      <th>4</th>\n",
       "      <td>ART001134566</td>\n",
       "      <td>2004</td>\n",
       "      <td>NaN</td>\n",
       "      <td>NaN</td>\n",
       "    </tr>\n",
       "    <tr>\n",
       "      <th>5</th>\n",
       "      <td>ART001134612</td>\n",
       "      <td>2004</td>\n",
       "      <td>NaN</td>\n",
       "      <td>NaN</td>\n",
       "    </tr>\n",
       "    <tr>\n",
       "      <th>6</th>\n",
       "      <td>ART000939115</td>\n",
       "      <td>2004</td>\n",
       "      <td>NaN</td>\n",
       "      <td>NaN</td>\n",
       "    </tr>\n",
       "    <tr>\n",
       "      <th>7</th>\n",
       "      <td>ART001134610</td>\n",
       "      <td>2004</td>\n",
       "      <td>NaN</td>\n",
       "      <td>NaN</td>\n",
       "    </tr>\n",
       "    <tr>\n",
       "      <th>8</th>\n",
       "      <td>ART001134611</td>\n",
       "      <td>2004</td>\n",
       "      <td>NaN</td>\n",
       "      <td>NaN</td>\n",
       "    </tr>\n",
       "    <tr>\n",
       "      <th>9</th>\n",
       "      <td>ART000939116</td>\n",
       "      <td>2004</td>\n",
       "      <td>NaN</td>\n",
       "      <td>NaN</td>\n",
       "    </tr>\n",
       "  </tbody>\n",
       "</table>\n",
       "</div>"
      ],
      "text/plain": [
       "           논문ID  발행년도 논문영어제목 영어초록\n",
       "0  ART001134609  2004    NaN  NaN\n",
       "1  ART001134565  2004    NaN  NaN\n",
       "2  ART001134567  2004    NaN  NaN\n",
       "3  ART001134520  2004    NaN  NaN\n",
       "4  ART001134566  2004    NaN  NaN\n",
       "5  ART001134612  2004    NaN  NaN\n",
       "6  ART000939115  2004    NaN  NaN\n",
       "7  ART001134610  2004    NaN  NaN\n",
       "8  ART001134611  2004    NaN  NaN\n",
       "9  ART000939116  2004    NaN  NaN"
      ]
     },
     "execution_count": 8,
     "metadata": {},
     "output_type": "execute_result"
    }
   ],
   "source": [
    "import pandas as pd\n",
    "\n",
    "df = pd.read_csv('combined_papers.csv')\n",
    "df.head(10)  # 상위 10줄 보기\n"
   ]
  },
  {
   "cell_type": "markdown",
   "id": "bf791b0e",
   "metadata": {},
   "source": [
    "8. 영어초록 있는 논문만 남기기"
   ]
  },
  {
   "cell_type": "code",
   "execution_count": 10,
   "id": "3e644984",
   "metadata": {},
   "outputs": [],
   "source": [
    "filtered = combined[\n",
    "    combined['영어초록'].notnull() & (combined['영어초록'].str.strip() != '')\n",
    "]\n",
    "filtered.to_csv('abstract_only.csv', index=False, encoding='utf-8-sig')\n"
   ]
  },
  {
   "cell_type": "code",
   "execution_count": 11,
   "id": "62ef1dd7",
   "metadata": {},
   "outputs": [
    {
     "name": "stdout",
     "output_type": "stream",
     "text": [
      "전체 행 수: 347470\n",
      "영어초록 있는 행 수: 297194\n"
     ]
    }
   ],
   "source": [
    "print(f\"전체 행 수: {len(combined)}\")\n",
    "print(f\"영어초록 있는 행 수: {len(filtered)}\")\n"
   ]
  },
  {
   "cell_type": "markdown",
   "id": "fb1f7d76",
   "metadata": {},
   "source": [
    "9. 데이터 스키마 확인"
   ]
  },
  {
   "cell_type": "code",
   "execution_count": 13,
   "id": "bd4c5046",
   "metadata": {},
   "outputs": [
    {
     "name": "stdout",
     "output_type": "stream",
     "text": [
      "(297194, 4)\n",
      "Index(['논문ID', '발행년도', '논문영어제목', '영어초록'], dtype='object')\n"
     ]
    },
    {
     "data": {
      "text/html": [
       "<div>\n",
       "<style scoped>\n",
       "    .dataframe tbody tr th:only-of-type {\n",
       "        vertical-align: middle;\n",
       "    }\n",
       "\n",
       "    .dataframe tbody tr th {\n",
       "        vertical-align: top;\n",
       "    }\n",
       "\n",
       "    .dataframe thead th {\n",
       "        text-align: right;\n",
       "    }\n",
       "</style>\n",
       "<table border=\"1\" class=\"dataframe\">\n",
       "  <thead>\n",
       "    <tr style=\"text-align: right;\">\n",
       "      <th></th>\n",
       "      <th>논문ID</th>\n",
       "      <th>발행년도</th>\n",
       "      <th>논문영어제목</th>\n",
       "      <th>영어초록</th>\n",
       "    </tr>\n",
       "  </thead>\n",
       "  <tbody>\n",
       "    <tr>\n",
       "      <th>0</th>\n",
       "      <td>ART000975170</td>\n",
       "      <td>2005</td>\n",
       "      <td>Study on the Investigation of Stone Chamber-to...</td>\n",
       "      <td>Large tombs in chonnam province are burial mou...</td>\n",
       "    </tr>\n",
       "    <tr>\n",
       "      <th>1</th>\n",
       "      <td>ART001134661</td>\n",
       "      <td>2005</td>\n",
       "      <td>A Study of hunting trap and method</td>\n",
       "      <td>This paper is draw up with the object of exami...</td>\n",
       "    </tr>\n",
       "    <tr>\n",
       "      <th>2</th>\n",
       "      <td>ART000975171</td>\n",
       "      <td>2005</td>\n",
       "      <td>Production of Mirror with coarse lines on thei...</td>\n",
       "      <td>Mirrors with coarse lines on their back(多鈕粗文鏡)...</td>\n",
       "    </tr>\n",
       "    <tr>\n",
       "      <th>3</th>\n",
       "      <td>ART001255683</td>\n",
       "      <td>2008</td>\n",
       "      <td>Establishment of Ma-han(馬韓) Kuk(國) in the regi...</td>\n",
       "      <td>The representative relic that can be related t...</td>\n",
       "    </tr>\n",
       "    <tr>\n",
       "      <th>4</th>\n",
       "      <td>ART001261014</td>\n",
       "      <td>2008</td>\n",
       "      <td>Changes of Pottery in Yeongsan River Basin in ...</td>\n",
       "      <td>Although the Jar-coffin tomb society existed i...</td>\n",
       "    </tr>\n",
       "  </tbody>\n",
       "</table>\n",
       "</div>"
      ],
      "text/plain": [
       "           논문ID  발행년도                                             논문영어제목  \\\n",
       "0  ART000975170  2005  Study on the Investigation of Stone Chamber-to...   \n",
       "1  ART001134661  2005                 A Study of hunting trap and method   \n",
       "2  ART000975171  2005  Production of Mirror with coarse lines on thei...   \n",
       "3  ART001255683  2008  Establishment of Ma-han(馬韓) Kuk(國) in the regi...   \n",
       "4  ART001261014  2008  Changes of Pottery in Yeongsan River Basin in ...   \n",
       "\n",
       "                                                영어초록  \n",
       "0  Large tombs in chonnam province are burial mou...  \n",
       "1  This paper is draw up with the object of exami...  \n",
       "2  Mirrors with coarse lines on their back(多鈕粗文鏡)...  \n",
       "3  The representative relic that can be related t...  \n",
       "4  Although the Jar-coffin tomb society existed i...  "
      ]
     },
     "execution_count": 13,
     "metadata": {},
     "output_type": "execute_result"
    }
   ],
   "source": [
    "import pandas as pd\n",
    "\n",
    "df = pd.read_csv('abstract_only.csv')\n",
    "\n",
    "# 기본 정보 확인\n",
    "print(df.shape)\n",
    "print(df.columns)\n",
    "df.head()\n"
   ]
  }
 ],
 "metadata": {
  "kernelspec": {
   "display_name": "Python 3",
   "language": "python",
   "name": "python3"
  },
  "language_info": {
   "codemirror_mode": {
    "name": "ipython",
    "version": 3
   },
   "file_extension": ".py",
   "mimetype": "text/x-python",
   "name": "python",
   "nbconvert_exporter": "python",
   "pygments_lexer": "ipython3",
   "version": "3.12.4"
  }
 },
 "nbformat": 4,
 "nbformat_minor": 5
}
