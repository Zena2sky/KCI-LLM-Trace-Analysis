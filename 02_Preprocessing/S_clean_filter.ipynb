{
 "cells": [
  {
   "cell_type": "markdown",
   "id": "0f6f5f1f",
   "metadata": {},
   "source": [
    "사회과학 분야 KCI 2004~2024 영어 초록 보유 논문만 필터링"
   ]
  },
  {
   "cell_type": "markdown",
   "id": "74a52841",
   "metadata": {},
   "source": [
    "1. 파일 불러오기"
   ]
  },
  {
   "cell_type": "code",
   "execution_count": 2,
   "id": "965c0ff4",
   "metadata": {},
   "outputs": [
    {
     "name": "stdout",
     "output_type": "stream",
     "text": [
      "           논문ID 주저자명 공동저자명    주저자소속기관 주저자ORCID  \\\n",
      "0  ART001260669  황규호   양영자    이화여자대학교      NaN   \n",
      "1  ART001260668  박종국   NaN    강릉원주대학교      NaN   \n",
      "2  ART001260670  박순경   NaN  한국교육과정평가원      NaN   \n",
      "\n",
      "                              논문제목  \\\n",
      "0            한국 다문화교육 내용선정의 쟁점과 과제   \n",
      "1              학교교육과정에 대한 과정철학적 고찰   \n",
      "2  교육과정 분권화의 출발점과 방향 타진을 위한 시론(始論)   \n",
      "\n",
      "                                             논문외국어제목  \\\n",
      "0  Issues of Multicultural Education Contents in ...   \n",
      "1  An Inquiry on the Logic of Process Philosophy ...   \n",
      "2  A Beginning Discussion on searching for the St...   \n",
      "\n",
      "                                              논문영어제목   학술지ID    학술지명  ...  \\\n",
      "0  Issues of Multicultural Education Contents in ...  000671  교육과정연구  ...   \n",
      "1  An Inquiry on the Logic of Process Philosophy ...  000671  교육과정연구  ...   \n",
      "2  A Beginning Discussion on searching for the St...  000671  교육과정연구  ...   \n",
      "\n",
      "                                                 키워드 외국어키워드  \\\n",
      "0  다문화교육내용 쟁점(issues in decision-making on the co...    NaN   \n",
      "1  학교교육과정(school curriculum), 과정철학(process philos...    NaN   \n",
      "2  교육과정 분권화 (curriculum decetralization), 자율성(aut...    NaN   \n",
      "\n",
      "                                               영어키워드   언어 참고문헌수 피인용횟수  \\\n",
      "0  다문화교육내용 쟁점(issues in decision-making on the co...  한국어    27    77   \n",
      "1  학교교육과정(school curriculum), 과정철학(process philos...  한국어    38     4   \n",
      "2  교육과정 분권화 (curriculum decetralization), 자율성(aut...  한국어    10    39   \n",
      "\n",
      "                             DOI        주제분야  \\\n",
      "0  10.15708/kscs.26.2.200806.003  사회과학 > 교육학   \n",
      "1  10.15708/kscs.26.2.200806.002  사회과학 > 교육학   \n",
      "2  10.15708/kscs.26.2.200806.004  사회과학 > 교육학   \n",
      "\n",
      "                                                 URL 등재구분  \n",
      "0  https://www.kci.go.kr/kciportal/ci/sereArticle...   등재  \n",
      "1  https://www.kci.go.kr/kciportal/ci/sereArticle...   등재  \n",
      "2  https://www.kci.go.kr/kciportal/ci/sereArticle...   등재  \n",
      "\n",
      "[3 rows x 36 columns]\n",
      "          논문 ID                                저자명           주저자 소속기관  \\\n",
      "0  ART003052776  이정우 ; 최우철 ; 배시웅 ; 노승국 ; 서형국 ; 문요준               경찰대학   \n",
      "1  ART003052777                          강태우 ; 오태원  대구경북과학기술원부설한국뇌연구원   \n",
      "2  ART003052775                                신상훈                특허청   \n",
      "\n",
      "  주저자 ORCID                                     논문명  \\\n",
      "0       NaN  고소장 자동 작성 및 분석 시스템 구축에 관한 법적 쟁점과 개선 방안   \n",
      "1       NaN               과학기술 융합의 시대에 법정책학의 역할과 방향   \n",
      "2       NaN                 중성물 간접침해 도입 및 그와 관련한 제언   \n",
      "\n",
      "                                              논문외국어명  \\\n",
      "0  Legal Issues and Improvement Strategies in the...   \n",
      "1  The role and direction of legal policy studies...   \n",
      "2  Introduction of indirect infringement by a non...   \n",
      "\n",
      "                                               논문영어명         학술지ID     학술지명  \\\n",
      "0  Legal Issues and Improvement Strategies in the...  SER000013422  과학기술법연구   \n",
      "1  The role and direction of legal policy studies...  SER000013422  과학기술법연구   \n",
      "2  Introduction of indirect infringement by a non...  SER000013422  과학기술법연구   \n",
      "\n",
      "  학술지약어명  ...                                              저자키워드  \\\n",
      "0    NaN  ...  리걸테크, 고소장 자동 작성, 생성형 AI, 형사사법정보시스템(KICS), 비식별화 기술   \n",
      "1    NaN  ...                                법학, 정책학, 법정책학, 과학기술   \n",
      "2    NaN  ...                            중성물, 전용물, 범용물, 수단, 간접침해   \n",
      "\n",
      "                                              외국어키워드  \\\n",
      "0  Legal Technology, Automated Complaint Drafting...   \n",
      "1  Law, Policy, Legal Policy Studies, Science & T...   \n",
      "2  an article to be used exclusively for the pate...   \n",
      "\n",
      "                                               영어키워드   언어 참고문헌 수 피인용 횟수  \\\n",
      "0  Legal Technology, Automated Complaint Drafting...  한국어     16      0   \n",
      "1  Law, Policy, Legal Policy Studies, Science & T...  한국어     31      0   \n",
      "2  an article to be used exclusively for the pate...  한국어     66      0   \n",
      "\n",
      "                          DOI              주제분야  \\\n",
      "0  10.32430/ilst.2024.30.1.85  사회과학 > 법학 > 기타법학   \n",
      "1   10.32430/ilst.2024.30.1.3  사회과학 > 법학 > 기타법학   \n",
      "2  10.32430/ilst.2024.30.1.39  사회과학 > 법학 > 기타법학   \n",
      "\n",
      "                                                 URL  KCI 등재 구분  \n",
      "0  https://www.kci.go.kr/kciportal/ci/sereArticle...         등재  \n",
      "1  https://www.kci.go.kr/kciportal/ci/sereArticle...         등재  \n",
      "2  https://www.kci.go.kr/kciportal/ci/sereArticle...         등재  \n",
      "\n",
      "[3 rows x 35 columns]\n"
     ]
    }
   ],
   "source": [
    "import pandas as pd\n",
    "\n",
    "# 올바른 파일명으로 수정\n",
    "df1 = pd.read_excel('KCI_SS_part1.xlsx')\n",
    "df2 = pd.read_excel('KCI_SS_part2.xlsx')\n",
    "\n",
    "# 불러온 데이터 미리보기 (앞 3줄)\n",
    "print(df1.head(3))\n",
    "print(df2.head(3))\n"
   ]
  },
  {
   "cell_type": "markdown",
   "id": "929f73c2",
   "metadata": {},
   "source": [
    "2. 컬럼명 통일하기"
   ]
  },
  {
   "cell_type": "code",
   "execution_count": 3,
   "id": "23a16a48",
   "metadata": {},
   "outputs": [],
   "source": [
    "# df1 컬럼명 통일\n",
    "df1 = df1.rename(columns={\n",
    "    '논문ID': '논문ID',\n",
    "    '발행년도': '발행년도',\n",
    "    '논문영어제목': '논문영어제목',\n",
    "    '영어초록': '영어초록'\n",
    "})\n",
    "\n",
    "# df2 컬럼명 통일\n",
    "df2 = df2.rename(columns={\n",
    "    '논문 ID': '논문ID',\n",
    "    '발행 연도': '발행년도',\n",
    "    '논문영어명': '논문영어제목',\n",
    "    '영어초록': '영어초록'\n",
    "})\n"
   ]
  },
  {
   "cell_type": "markdown",
   "id": "c8e9cc26",
   "metadata": {},
   "source": [
    "3. 사용하고자 하는 컬럼 추출"
   ]
  },
  {
   "cell_type": "code",
   "execution_count": 4,
   "id": "680002e4",
   "metadata": {},
   "outputs": [],
   "source": [
    "df1 = df1[['논문ID', '발행년도', '논문영어제목', '영어초록']]\n",
    "df2 = df2[['논문ID', '발행년도', '논문영어제목', '영어초록']]\n"
   ]
  },
  {
   "cell_type": "markdown",
   "id": "c3f27496",
   "metadata": {},
   "source": [
    "4. 두 파일 병합(concat)"
   ]
  },
  {
   "cell_type": "code",
   "execution_count": 5,
   "id": "902f07c7",
   "metadata": {},
   "outputs": [],
   "source": [
    "combined = pd.concat([df1, df2], ignore_index=True)\n"
   ]
  },
  {
   "cell_type": "markdown",
   "id": "601d6000",
   "metadata": {},
   "source": [
    "5. 결측치 확인"
   ]
  },
  {
   "cell_type": "code",
   "execution_count": 16,
   "id": "b0cbb9fa",
   "metadata": {},
   "outputs": [
    {
     "data": {
      "text/plain": [
       "논문ID          0\n",
       "발행년도          0\n",
       "논문영어제목     5698\n",
       "영어초록      18454\n",
       "dtype: int64"
      ]
     },
     "execution_count": 16,
     "metadata": {},
     "output_type": "execute_result"
    }
   ],
   "source": [
    "# 각 컬럼별로 NaN 값(결측값)만 집계합니다.\n",
    "# 빈 문자열(\"\")이나 공백(\"   \")은 포함되지 않으므로,\n",
    "# 예를 들어 '영어초록 없음'을 정확히 파악하려면 다른 조건이 필요.\n",
    "combined.isnull().sum()\n"
   ]
  },
  {
   "cell_type": "code",
   "execution_count": 17,
   "id": "b731ae61",
   "metadata": {},
   "outputs": [
    {
     "data": {
      "text/plain": [
       "22903"
      ]
     },
     "execution_count": 17,
     "metadata": {},
     "output_type": "execute_result"
    }
   ],
   "source": [
    "# 영어초록이 결측(NaN)이거나, 문자열이지만 공백(\"\") 또는 빈 문자열(\"   \")인 경우를 모두 포함하여\n",
    "# 영어초록이 '실제로 존재하지 않는' 행을 판별합니다.\n",
    "missing_abstracts = combined['영어초록'].isnull() | (combined['영어초록'].str.strip() == \"\")\n",
    "\n",
    "# 위에서 구한 결측 조건에 해당하는 행의 수를 출력합니다.\n",
    "# 즉, 영어초록이 없는 논문 수입니다.\n",
    "combined['영어초록'][missing_abstracts].shape[0]"
   ]
  },
  {
   "cell_type": "markdown",
   "id": "40c1a77b",
   "metadata": {},
   "source": [
    "6. 데이터 확인을 위해 CSV 생성"
   ]
  },
  {
   "cell_type": "code",
   "execution_count": 8,
   "id": "de41c98d",
   "metadata": {},
   "outputs": [],
   "source": [
    "combined.to_csv('SS_combined_papers.csv', index=False, encoding='utf-8-sig')\n"
   ]
  },
  {
   "cell_type": "markdown",
   "id": "97b72947",
   "metadata": {},
   "source": [
    "7. CSV 내용 확인"
   ]
  },
  {
   "cell_type": "code",
   "execution_count": 9,
   "id": "be345a37",
   "metadata": {},
   "outputs": [
    {
     "data": {
      "text/html": [
       "<div>\n",
       "<style scoped>\n",
       "    .dataframe tbody tr th:only-of-type {\n",
       "        vertical-align: middle;\n",
       "    }\n",
       "\n",
       "    .dataframe tbody tr th {\n",
       "        vertical-align: top;\n",
       "    }\n",
       "\n",
       "    .dataframe thead th {\n",
       "        text-align: right;\n",
       "    }\n",
       "</style>\n",
       "<table border=\"1\" class=\"dataframe\">\n",
       "  <thead>\n",
       "    <tr style=\"text-align: right;\">\n",
       "      <th></th>\n",
       "      <th>논문ID</th>\n",
       "      <th>발행년도</th>\n",
       "      <th>논문영어제목</th>\n",
       "      <th>영어초록</th>\n",
       "    </tr>\n",
       "  </thead>\n",
       "  <tbody>\n",
       "    <tr>\n",
       "      <th>0</th>\n",
       "      <td>ART001260669</td>\n",
       "      <td>2008</td>\n",
       "      <td>Issues of Multicultural Education Contents in ...</td>\n",
       "      <td>The purpose of this study is to review or prev...</td>\n",
       "    </tr>\n",
       "    <tr>\n",
       "      <th>1</th>\n",
       "      <td>ART001260668</td>\n",
       "      <td>2008</td>\n",
       "      <td>An Inquiry on the Logic of Process Philosophy ...</td>\n",
       "      <td>The purpose of this paper is to interpret the ...</td>\n",
       "    </tr>\n",
       "    <tr>\n",
       "      <th>2</th>\n",
       "      <td>ART001260670</td>\n",
       "      <td>2008</td>\n",
       "      <td>A Beginning Discussion on searching for the St...</td>\n",
       "      <td>This study aims first, to retrospect the curri...</td>\n",
       "    </tr>\n",
       "    <tr>\n",
       "      <th>3</th>\n",
       "      <td>ART001260672</td>\n",
       "      <td>2008</td>\n",
       "      <td>A Comparative Study of Korean Elementary Schoo...</td>\n",
       "      <td>The main purpose of this study is to provide s...</td>\n",
       "    </tr>\n",
       "    <tr>\n",
       "      <th>4</th>\n",
       "      <td>ART001260667</td>\n",
       "      <td>2008</td>\n",
       "      <td>Hermeneutical Understanding of Mediative Conte...</td>\n",
       "      <td>This study aims to give you hermeneutical unde...</td>\n",
       "    </tr>\n",
       "    <tr>\n",
       "      <th>5</th>\n",
       "      <td>ART001260674</td>\n",
       "      <td>2008</td>\n",
       "      <td>The effect of educational backgrounds in high ...</td>\n",
       "      <td>After the 7th national curricular reforming, t...</td>\n",
       "    </tr>\n",
       "    <tr>\n",
       "      <th>6</th>\n",
       "      <td>ART001260671</td>\n",
       "      <td>2008</td>\n",
       "      <td>Preliminary Development of Knowledge Base of C...</td>\n",
       "      <td>The purpose of this study is to develop prelim...</td>\n",
       "    </tr>\n",
       "    <tr>\n",
       "      <th>7</th>\n",
       "      <td>ART001260673</td>\n",
       "      <td>2008</td>\n",
       "      <td>Investigating the Working Definition of Curric...</td>\n",
       "      <td>This study examined the way that the concept o...</td>\n",
       "    </tr>\n",
       "    <tr>\n",
       "      <th>8</th>\n",
       "      <td>ART001134097</td>\n",
       "      <td>2004</td>\n",
       "      <td>Characteristics of the 7th Revision of Moral E...</td>\n",
       "      <td>NaN</td>\n",
       "    </tr>\n",
       "    <tr>\n",
       "      <th>9</th>\n",
       "      <td>ART001134189</td>\n",
       "      <td>2004</td>\n",
       "      <td>The Investigation on the Criteria for the Anal...</td>\n",
       "      <td>NaN</td>\n",
       "    </tr>\n",
       "  </tbody>\n",
       "</table>\n",
       "</div>"
      ],
      "text/plain": [
       "           논문ID  발행년도                                             논문영어제목  \\\n",
       "0  ART001260669  2008  Issues of Multicultural Education Contents in ...   \n",
       "1  ART001260668  2008  An Inquiry on the Logic of Process Philosophy ...   \n",
       "2  ART001260670  2008  A Beginning Discussion on searching for the St...   \n",
       "3  ART001260672  2008  A Comparative Study of Korean Elementary Schoo...   \n",
       "4  ART001260667  2008  Hermeneutical Understanding of Mediative Conte...   \n",
       "5  ART001260674  2008  The effect of educational backgrounds in high ...   \n",
       "6  ART001260671  2008  Preliminary Development of Knowledge Base of C...   \n",
       "7  ART001260673  2008  Investigating the Working Definition of Curric...   \n",
       "8  ART001134097  2004  Characteristics of the 7th Revision of Moral E...   \n",
       "9  ART001134189  2004  The Investigation on the Criteria for the Anal...   \n",
       "\n",
       "                                                영어초록  \n",
       "0  The purpose of this study is to review or prev...  \n",
       "1  The purpose of this paper is to interpret the ...  \n",
       "2  This study aims first, to retrospect the curri...  \n",
       "3  The main purpose of this study is to provide s...  \n",
       "4  This study aims to give you hermeneutical unde...  \n",
       "5  After the 7th national curricular reforming, t...  \n",
       "6  The purpose of this study is to develop prelim...  \n",
       "7  This study examined the way that the concept o...  \n",
       "8                                                NaN  \n",
       "9                                                NaN  "
      ]
     },
     "execution_count": 9,
     "metadata": {},
     "output_type": "execute_result"
    }
   ],
   "source": [
    "import pandas as pd\n",
    "\n",
    "df = pd.read_csv('SS_combined_papers.csv')\n",
    "df.head(10)  # 상위 10줄 보기\n"
   ]
  },
  {
   "cell_type": "markdown",
   "id": "bf791b0e",
   "metadata": {},
   "source": [
    "8. 영어초록 있는 논문만 남기기"
   ]
  },
  {
   "cell_type": "code",
   "execution_count": 10,
   "id": "3e644984",
   "metadata": {},
   "outputs": [],
   "source": [
    "filtered = combined[\n",
    "    combined['영어초록'].notnull() & (combined['영어초록'].str.strip() != '')\n",
    "]\n",
    "filtered.to_csv('S_abstract_only.csv', index=False, encoding='utf-8-sig')\n"
   ]
  },
  {
   "cell_type": "code",
   "execution_count": 11,
   "id": "62ef1dd7",
   "metadata": {},
   "outputs": [
    {
     "name": "stdout",
     "output_type": "stream",
     "text": [
      "전체 행 수: 534691\n",
      "영어초록 있는 행 수: 511788\n"
     ]
    }
   ],
   "source": [
    "print(f\"전체 행 수: {len(combined)}\")\n",
    "print(f\"영어초록 있는 행 수: {len(filtered)}\")\n"
   ]
  },
  {
   "cell_type": "markdown",
   "id": "fb1f7d76",
   "metadata": {},
   "source": [
    "9. 데이터 스키마 확인"
   ]
  },
  {
   "cell_type": "code",
   "execution_count": 12,
   "id": "bd4c5046",
   "metadata": {},
   "outputs": [
    {
     "name": "stdout",
     "output_type": "stream",
     "text": [
      "(511788, 4)\n",
      "Index(['논문ID', '발행년도', '논문영어제목', '영어초록'], dtype='object')\n"
     ]
    },
    {
     "data": {
      "text/html": [
       "<div>\n",
       "<style scoped>\n",
       "    .dataframe tbody tr th:only-of-type {\n",
       "        vertical-align: middle;\n",
       "    }\n",
       "\n",
       "    .dataframe tbody tr th {\n",
       "        vertical-align: top;\n",
       "    }\n",
       "\n",
       "    .dataframe thead th {\n",
       "        text-align: right;\n",
       "    }\n",
       "</style>\n",
       "<table border=\"1\" class=\"dataframe\">\n",
       "  <thead>\n",
       "    <tr style=\"text-align: right;\">\n",
       "      <th></th>\n",
       "      <th>논문ID</th>\n",
       "      <th>발행년도</th>\n",
       "      <th>논문영어제목</th>\n",
       "      <th>영어초록</th>\n",
       "    </tr>\n",
       "  </thead>\n",
       "  <tbody>\n",
       "    <tr>\n",
       "      <th>0</th>\n",
       "      <td>ART001260669</td>\n",
       "      <td>2008</td>\n",
       "      <td>Issues of Multicultural Education Contents in ...</td>\n",
       "      <td>The purpose of this study is to review or prev...</td>\n",
       "    </tr>\n",
       "    <tr>\n",
       "      <th>1</th>\n",
       "      <td>ART001260668</td>\n",
       "      <td>2008</td>\n",
       "      <td>An Inquiry on the Logic of Process Philosophy ...</td>\n",
       "      <td>The purpose of this paper is to interpret the ...</td>\n",
       "    </tr>\n",
       "    <tr>\n",
       "      <th>2</th>\n",
       "      <td>ART001260670</td>\n",
       "      <td>2008</td>\n",
       "      <td>A Beginning Discussion on searching for the St...</td>\n",
       "      <td>This study aims first, to retrospect the curri...</td>\n",
       "    </tr>\n",
       "    <tr>\n",
       "      <th>3</th>\n",
       "      <td>ART001260672</td>\n",
       "      <td>2008</td>\n",
       "      <td>A Comparative Study of Korean Elementary Schoo...</td>\n",
       "      <td>The main purpose of this study is to provide s...</td>\n",
       "    </tr>\n",
       "    <tr>\n",
       "      <th>4</th>\n",
       "      <td>ART001260667</td>\n",
       "      <td>2008</td>\n",
       "      <td>Hermeneutical Understanding of Mediative Conte...</td>\n",
       "      <td>This study aims to give you hermeneutical unde...</td>\n",
       "    </tr>\n",
       "  </tbody>\n",
       "</table>\n",
       "</div>"
      ],
      "text/plain": [
       "           논문ID  발행년도                                             논문영어제목  \\\n",
       "0  ART001260669  2008  Issues of Multicultural Education Contents in ...   \n",
       "1  ART001260668  2008  An Inquiry on the Logic of Process Philosophy ...   \n",
       "2  ART001260670  2008  A Beginning Discussion on searching for the St...   \n",
       "3  ART001260672  2008  A Comparative Study of Korean Elementary Schoo...   \n",
       "4  ART001260667  2008  Hermeneutical Understanding of Mediative Conte...   \n",
       "\n",
       "                                                영어초록  \n",
       "0  The purpose of this study is to review or prev...  \n",
       "1  The purpose of this paper is to interpret the ...  \n",
       "2  This study aims first, to retrospect the curri...  \n",
       "3  The main purpose of this study is to provide s...  \n",
       "4  This study aims to give you hermeneutical unde...  "
      ]
     },
     "execution_count": 12,
     "metadata": {},
     "output_type": "execute_result"
    }
   ],
   "source": [
    "import pandas as pd\n",
    "\n",
    "df = pd.read_csv('S_abstract_only.csv')\n",
    "\n",
    "# 기본 정보 확인\n",
    "print(df.shape)\n",
    "print(df.columns)\n",
    "df.head()\n"
   ]
  },
  {
   "cell_type": "markdown",
   "id": "3e259435",
   "metadata": {},
   "source": []
  }
 ],
 "metadata": {
  "kernelspec": {
   "display_name": "Python 3",
   "language": "python",
   "name": "python3"
  },
  "language_info": {
   "codemirror_mode": {
    "name": "ipython",
    "version": 3
   },
   "file_extension": ".py",
   "mimetype": "text/x-python",
   "name": "python",
   "nbconvert_exporter": "python",
   "pygments_lexer": "ipython3",
   "version": "3.12.4"
  }
 },
 "nbformat": 4,
 "nbformat_minor": 5
}
